{
 "cells": [
  {
   "cell_type": "markdown",
   "source": [
    "# Experience of faculties"
   ],
   "metadata": {
    "collapsed": false
   },
   "id": "707f67d3b3558986"
  },
  {
   "cell_type": "code",
   "outputs": [
    {
     "name": "stdout",
     "output_type": "stream",
     "text": [
      "Slope: 1.1330275229357798\n",
      "Intercept: 69.6697247706422\n"
     ]
    },
    {
     "data": {
      "text/plain": "<Figure size 640x480 with 1 Axes>",
      "image/png": "[encoded data removed]"
     },
     "metadata": {},
     "output_type": "display_data"
    },
    {
     "name": "stdout",
     "output_type": "stream",
     "text": [
      "Estimated performance rating for a faculty with 20 years of experience: 92.3302752293578\n"
     ]
    }
   ],
   "source": [
    "import matplotlib.pyplot as plt\n",
    "import numpy as np\n",
    "\n",
    "experience = [16, 12, 18, 4, 3, 10, 5, 12]\n",
    "performance_rating = [87, 88, 89, 68, 78, 80, 75, 83]\n",
    "\n",
    "experience_mean = np.mean(experience)\n",
    "performance_mean = np.mean(performance_rating)\n",
    "\n",
    "numerator = np.sum((experience - experience_mean) * (performance_rating - performance_mean))\n",
    "denominator = np.sum((experience - experience_mean) ** 2)\n",
    "\n",
    "slope = numerator / denominator\n",
    "intercept = performance_mean - slope * experience_mean\n",
    "\n",
    "print(\"Slope:\", slope)\n",
    "print(\"Intercept:\", intercept)\n",
    "\n",
    "x = np.array(experience)\n",
    "y = slope * x + intercept\n",
    "\n",
    "plt.scatter(experience, performance_rating, color='b', label='Data Points')\n",
    "plt.plot(x, y, color='r', label='Best-Fitted Line')\n",
    "plt.xlabel('Experience in years')\n",
    "plt.ylabel('Performance rating')\n",
    "plt.legend()\n",
    "plt.show()\n",
    "\n",
    "new_experience = 20\n",
    "estimated_rating = slope * new_experience + intercept\n",
    "print(\"Estimated performance rating for a faculty with 20 years of experience:\", estimated_rating)\n"
   ],
   "metadata": {
    "collapsed": false,
    "ExecuteTime": {
     "end_time": "2024-01-30T09:01:40.940003Z",
     "start_time": "2024-01-30T09:01:40.861970Z"
    }
   },
   "id": "6b9ae80d098c32f",
   "execution_count": 52
  },
  {
   "cell_type": "markdown",
   "source": [
    "# Boston Dataset"
   ],
   "metadata": {
    "collapsed": false
   },
   "id": "6465be42c7ea6d5f"
  },
  {
   "cell_type": "code",
   "outputs": [],
   "source": [
    "import pandas as pd\n",
    "import numpy as np\n",
    "from sklearn.model_selection  import train_test_split\n",
    "from sklearn.linear_model import LinearRegression\n",
    "from sklearn.metrics import mean_absolute_error, mean_squared_error, r2_score"
   ],
   "metadata": {
    "collapsed": false,
    "ExecuteTime": {
     "end_time": "2024-01-30T08:19:11.721080Z",
     "start_time": "2024-01-30T08:19:11.717589Z"
    }
   },
   "id": "f61c99f6fbb4bd40",
   "execution_count": 12
  },
  {
   "cell_type": "code",
   "outputs": [
    {
     "name": "stdout",
     "output_type": "stream",
     "text": [
      "(506, 14)\n"
     ]
    }
   ],
   "source": [
    "df = pd.read_csv(\"Boston.csv\")\n",
    "print(df.shape)"
   ],
   "metadata": {
    "collapsed": false,
    "ExecuteTime": {
     "end_time": "2024-01-30T08:16:35.549538Z",
     "start_time": "2024-01-30T08:16:35.528994Z"
    }
   },
   "id": "49af746bb887fa94",
   "execution_count": 3
  },
  {
   "cell_type": "code",
   "outputs": [
    {
     "name": "stdout",
     "output_type": "stream",
     "text": [
      "(506, 13)\n",
      "(506,)\n"
     ]
    }
   ],
   "source": [
    "X = df.iloc[:,0:13]\n",
    "Y = df.iloc[:,13]\n",
    "print(X.shape)\n",
    "print(Y.shape)"
   ],
   "metadata": {
    "collapsed": false,
    "ExecuteTime": {
     "end_time": "2024-01-30T08:17:49.128346Z",
     "start_time": "2024-01-30T08:17:49.125355Z"
    }
   },
   "id": "1866607dd7e347e1",
   "execution_count": 7
  },
  {
   "cell_type": "code",
   "outputs": [
    {
     "name": "stdout",
     "output_type": "stream",
     "text": [
      "(354, 13)\n",
      "(152, 13)\n",
      "(354,)\n",
      "(152,)\n"
     ]
    }
   ],
   "source": [
    "X_train, X_test, Y_train, Y_test = train_test_split(X, Y, test_size=0.3, random_state=1)\n",
    "print(X_train.shape)\n",
    "print(X_test.shape)\n",
    "print(Y_train.shape)\n",
    "print(Y_test.shape)\n"
   ],
   "metadata": {
    "collapsed": false,
    "ExecuteTime": {
     "end_time": "2024-01-30T08:18:22.861436Z",
     "start_time": "2024-01-30T08:18:22.854577Z"
    }
   },
   "id": "5e643203cf500426",
   "execution_count": 8
  },
  {
   "cell_type": "code",
   "outputs": [
    {
     "data": {
      "text/plain": "LinearRegression()",
      "text/html": "<style>#sk-container-id-1 {color: black;background-color: white;}#sk-container-id-1 pre{padding: 0;}#sk-container-id-1 div.sk-toggleable {background-color: white;}#sk-container-id-1 label.sk-toggleable__label {cursor: pointer;display: block;width: 100%;margin-bottom: 0;padding: 0.3em;box-sizing: border-box;text-align: center;}#sk-container-id-1 label.sk-toggleable__label-arrow:before {content: \"▸\";float: left;margin-right: 0.25em;color: #696969;}#sk-container-id-1 label.sk-toggleable__label-arrow:hover:before {color: black;}#sk-container-id-1 div.sk-estimator:hover label.sk-toggleable__label-arrow:before {color: black;}#sk-container-id-1 div.sk-toggleable__content {max-height: 0;max-width: 0;overflow: hidden;text-align: left;background-color: #f0f8ff;}#sk-container-id-1 div.sk-toggleable__content pre {margin: 0.2em;color: black;border-radius: 0.25em;background-color: #f0f8ff;}#sk-container-id-1 input.sk-toggleable__control:checked~div.sk-toggleable__content {max-height: 200px;max-width: 100%;overflow: auto;}#sk-container-id-1 input.sk-toggleable__control:checked~label.sk-toggleable__label-arrow:before {content: \"▾\";}#sk-container-id-1 div.sk-estimator input.sk-toggleable__control:checked~label.sk-toggleable__label {background-color: #d4ebff;}#sk-container-id-1 div.sk-label input.sk-toggleable__control:checked~label.sk-toggleable__label {background-color: #d4ebff;}#sk-container-id-1 input.sk-hidden--visually {border: 0;clip: rect(1px 1px 1px 1px);clip: rect(1px, 1px, 1px, 1px);height: 1px;margin: -1px;overflow: hidden;padding: 0;position: absolute;width: 1px;}#sk-container-id-1 div.sk-estimator {font-family: monospace;background-color: #f0f8ff;border: 1px dotted black;border-radius: 0.25em;box-sizing: border-box;margin-bottom: 0.5em;}#sk-container-id-1 div.sk-estimator:hover {background-color: #d4ebff;}#sk-container-id-1 div.sk-parallel-item::after {content: \"\";width: 100%;border-bottom: 1px solid gray;flex-grow: 1;}#sk-container-id-1 div.sk-label:hover label.sk-toggleable__label {background-color: #d4ebff;}#sk-container-id-1 div.sk-serial::before {content: \"\";position: absolute;border-left: 1px solid gray;box-sizing: border-box;top: 0;bottom: 0;left: 50%;z-index: 0;}#sk-container-id-1 div.sk-serial {display: flex;flex-direction: column;align-items: center;background-color: white;padding-right: 0.2em;padding-left: 0.2em;position: relative;}#sk-container-id-1 div.sk-item {position: relative;z-index: 1;}#sk-container-id-1 div.sk-parallel {display: flex;align-items: stretch;justify-content: center;background-color: white;position: relative;}#sk-container-id-1 div.sk-item::before, #sk-container-id-1 div.sk-parallel-item::before {content: \"\";position: absolute;border-left: 1px solid gray;box-sizing: border-box;top: 0;bottom: 0;left: 50%;z-index: -1;}#sk-container-id-1 div.sk-parallel-item {display: flex;flex-direction: column;z-index: 1;position: relative;background-color: white;}#sk-container-id-1 div.sk-parallel-item:first-child::after {align-self: flex-end;width: 50%;}#sk-container-id-1 div.sk-parallel-item:last-child::after {align-self: flex-start;width: 50%;}#sk-container-id-1 div.sk-parallel-item:only-child::after {width: 0;}#sk-container-id-1 div.sk-dashed-wrapped {border: 1px dashed gray;margin: 0 0.4em 0.5em 0.4em;box-sizing: border-box;padding-bottom: 0.4em;background-color: white;}#sk-container-id-1 div.sk-label label {font-family: monospace;font-weight: bold;display: inline-block;line-height: 1.2em;}#sk-container-id-1 div.sk-label-container {text-align: center;}#sk-container-id-1 div.sk-container {/* jupyter's `normalize.less` sets `[hidden] { display: none; }` but bootstrap.min.css set `[hidden] { display: none !important; }` so we also need the `!important` here to be able to override the default hidden behavior on the sphinx rendered scikit-learn.org. See: https://github.com/scikit-learn/scikit-learn/issues/21755 */display: inline-block !important;position: relative;}#sk-container-id-1 div.sk-text-repr-fallback {display: none;}</style><div id=\"sk-container-id-1\" class=\"sk-top-container\"><div class=\"sk-text-repr-fallback\"><pre>LinearRegression()</pre><b>In a Jupyter environment, please rerun this cell to show the HTML representation or trust the notebook. <br />On GitHub, the HTML representation is unable to render, please try loading this page with nbviewer.org.</b></div><div class=\"sk-container\" hidden><div class=\"sk-item\"><div class=\"sk-estimator sk-toggleable\"><input class=\"sk-toggleable__control sk-hidden--visually\" id=\"sk-estimator-id-1\" type=\"checkbox\" checked><label for=\"sk-estimator-id-1\" class=\"sk-toggleable__label sk-toggleable__label-arrow\">LinearRegression</label><div class=\"sk-toggleable__content\"><pre>LinearRegression()</pre></div></div></div></div></div>"
     },
     "execution_count": 9,
     "metadata": {},
     "output_type": "execute_result"
    }
   ],
   "source": [
    "model = LinearRegression()\n",
    "model.fit(X_train, Y_train)\n"
   ],
   "metadata": {
    "collapsed": false,
    "ExecuteTime": {
     "end_time": "2024-01-30T08:18:31.124751Z",
     "start_time": "2024-01-30T08:18:31.108167Z"
    }
   },
   "id": "c48119090c723d83",
   "execution_count": 9
  },
  {
   "cell_type": "code",
   "outputs": [
    {
     "name": "stdout",
     "output_type": "stream",
     "text": [
      "[32.3914647  27.94401279 17.83762764 21.66941388 18.93639614 20.01995795\n",
      " 32.63414961 17.86179976 24.73211676 26.77346826 27.26138023 28.63243014\n",
      " 21.16103038 27.15098589 23.33198614 21.02894005 17.11819755 37.52455938\n",
      " 30.69864427  8.46104486 20.83966032 16.26732451 25.05030307 24.8069032\n",
      " 31.6789299  10.98989363 13.54111562 16.54697099 35.86699683 14.69589266\n",
      " 21.05655107 13.90301353 43.01321262 17.80335305 21.68817023 20.45077825\n",
      " 17.38095983 26.81334904 10.08706217 19.96174586 24.1983249  21.00202622\n",
      " 29.38682967 16.33215467 19.37439646 14.45525235 39.52670798 18.18535021\n",
      " 26.38536303 20.41420863 25.08511581 24.40208165 24.87902769 26.97887956\n",
      "  4.93921657 24.0001365  10.66711602 26.98494775 16.63507993 35.31652989\n",
      " 19.49249915 27.37577863 16.53965715 19.09746715 11.06765336 32.03445261\n",
      " 36.15847648 21.53547868 24.96434626 25.50601154 23.41203509  7.20513615\n",
      " 16.8659937  20.06269471 20.61979368 21.97238475 34.25908683 27.9998298\n",
      " 24.95261644 34.74201458 18.63786454 23.95355085 34.50655345 13.15979729\n",
      " 20.53691051 30.29844955 16.932953   24.29285934 19.11800155 16.9848188\n",
      " 26.80165303 40.90027245 14.43790215 23.20589688 15.39439519 21.77332361\n",
      " 22.85660249 29.45718412 36.54373379 20.36577747 18.01790611 17.41615519\n",
      " 25.23381893 21.98069747  8.3160445  21.49942727 16.565317   33.22680671\n",
      " 24.39944797 24.99055027 38.37532568 28.82033178 14.76287071 34.72063358\n",
      " 35.40686066 32.93299015 20.95996646 16.74324182 34.54769634 38.9463732\n",
      " 21.47971843 15.54203787 27.46719043 18.62729405 27.3819011  21.13549164\n",
      " 26.24403323 22.22010257 23.34295812 28.29923408 20.53788412 23.94639233\n",
      " 29.8421088  10.55075792 27.02280253 32.41641579 13.94180705 13.62057726\n",
      " 33.00870341 14.2836798  17.70899424 16.30194776 17.14377392 28.71467061\n",
      " 34.07548297 20.31288796 24.55801246 17.32995936 28.3602341  20.79422791\n",
      " 33.6981572  13.51882716]\n"
     ]
    }
   ],
   "source": [
    "Y_pred = model.predict(X_test)\n",
    "print(Y_pred)\n"
   ],
   "metadata": {
    "collapsed": false,
    "ExecuteTime": {
     "end_time": "2024-01-30T08:18:44.850185Z",
     "start_time": "2024-01-30T08:18:44.845313Z"
    }
   },
   "id": "6b20fbcb673f6bf3",
   "execution_count": 10
  },
  {
   "cell_type": "code",
   "outputs": [
    {
     "name": "stdout",
     "output_type": "stream",
     "text": [
      "Mean Absolute Error:  3.344665503598752\n",
      "Mean Squared Error:  19.831323672063103\n",
      "Root Mean Squared Error:  4.453237437198145\n",
      "R2 Score:  0.7836295385076295\n"
     ]
    }
   ],
   "source": [
    "print(\"Mean Absolute Error: \", mean_absolute_error(Y_test, Y_pred))\n",
    "print(\"Mean Squared Error: \", mean_squared_error(Y_test, Y_pred))\n",
    "print(\"Root Mean Squared Error: \", np.sqrt(mean_squared_error(Y_test, Y_pred)))\n",
    "print(\"R2 Score: \", r2_score(Y_test, Y_pred))"
   ],
   "metadata": {
    "collapsed": false,
    "ExecuteTime": {
     "end_time": "2024-01-30T08:19:14.454422Z",
     "start_time": "2024-01-30T08:19:14.449109Z"
    }
   },
   "id": "b31d38b62a562090",
   "execution_count": 13
  },
  {
   "cell_type": "code",
   "outputs": [
    {
     "name": "stdout",
     "output_type": "stream",
     "text": [
      "Train-Test Split: 0.6-0.4, Random Seed: 42\n",
      "Mean Squared Error (MSE): 21.832709989577527\n",
      "Root Mean Squared Error (RMSE): 4.6725485540096345\n",
      "Mean Absolute Error (MAE): 3.297969683492429\n",
      "R2 Score: 0.7125140936111212\n",
      "************************************\n",
      "Train-Test Split: 0.6-0.4, Random Seed: 55\n",
      "Mean Squared Error (MSE): 22.463618438226447\n",
      "Root Mean Squared Error (RMSE): 4.739579985423439\n",
      "Mean Absolute Error (MAE): 3.3869314351933566\n",
      "R2 Score: 0.736244253824488\n",
      "************************************\n",
      "Train-Test Split: 0.6-0.4, Random Seed: 77\n",
      "Mean Squared Error (MSE): 20.68310866479998\n",
      "Root Mean Squared Error (RMSE): 4.547868584820804\n",
      "Mean Absolute Error (MAE): 3.4636606401623937\n",
      "R2 Score: 0.6928948118878467\n",
      "************************************\n",
      "Train-Test Split: 0.6-0.4, Random Seed: 99\n",
      "Mean Squared Error (MSE): 27.234490650049214\n",
      "Root Mean Squared Error (RMSE): 5.218667516718153\n",
      "Mean Absolute Error (MAE): 3.705639447402496\n",
      "R2 Score: 0.6788552334055927\n",
      "************************************\n",
      "Train-Test Split: 0.5-0.5, Random Seed: 42\n",
      "Mean Squared Error (MSE): 25.17539053611708\n",
      "Root Mean Squared Error (RMSE): 5.017508399207427\n",
      "Mean Absolute Error (MAE): 3.3981670968812066\n",
      "R2 Score: 0.689691748287574\n",
      "************************************\n",
      "Train-Test Split: 0.5-0.5, Random Seed: 55\n",
      "Mean Squared Error (MSE): 22.636223169564207\n",
      "Root Mean Squared Error (RMSE): 4.757754004734188\n",
      "Mean Absolute Error (MAE): 3.3518885226755715\n",
      "R2 Score: 0.7159408991678213\n",
      "************************************\n",
      "Train-Test Split: 0.5-0.5, Random Seed: 77\n",
      "Mean Squared Error (MSE): 22.12469749578101\n",
      "Root Mean Squared Error (RMSE): 4.703689774611099\n",
      "Mean Absolute Error (MAE): 3.5535394805822684\n",
      "R2 Score: 0.6573694386021703\n",
      "************************************\n",
      "Train-Test Split: 0.5-0.5, Random Seed: 99\n",
      "Mean Squared Error (MSE): 28.681511235373495\n",
      "Root Mean Squared Error (RMSE): 5.3555122290378065\n",
      "Mean Absolute Error (MAE): 3.709289147851444\n",
      "R2 Score: 0.6593791749925892\n",
      "************************************\n",
      "Train-Test Split: 0.7-0.3, Random Seed: 42\n",
      "Mean Squared Error (MSE): 21.517444231177038\n",
      "Root Mean Squared Error (RMSE): 4.638689926172802\n",
      "Mean Absolute Error (MAE): 3.162709871457385\n",
      "R2 Score: 0.7112260057484956\n",
      "************************************\n",
      "Train-Test Split: 0.7-0.3, Random Seed: 55\n",
      "Mean Squared Error (MSE): 17.93536303165827\n",
      "Root Mean Squared Error (RMSE): 4.23501629650445\n",
      "Mean Absolute Error (MAE): 2.963144334261807\n",
      "R2 Score: 0.7522548542013477\n",
      "************************************\n",
      "Train-Test Split: 0.7-0.3, Random Seed: 77\n",
      "Mean Squared Error (MSE): 21.168730964814166\n",
      "Root Mean Squared Error (RMSE): 4.600948920039666\n",
      "Mean Absolute Error (MAE): 3.5252270405696104\n",
      "R2 Score: 0.7175720869047616\n",
      "************************************\n",
      "Train-Test Split: 0.7-0.3, Random Seed: 99\n",
      "Mean Squared Error (MSE): 27.756163819697793\n",
      "Root Mean Squared Error (RMSE): 5.2684118878175985\n",
      "Mean Absolute Error (MAE): 3.5894551710379985\n",
      "R2 Score: 0.6721726414424725\n",
      "************************************\n",
      "Train-Test Split: 0.8-0.2, Random Seed: 42\n",
      "Mean Squared Error (MSE): 24.291119474974067\n",
      "Root Mean Squared Error (RMSE): 4.928602182665392\n",
      "Mean Absolute Error (MAE): 3.1890919658879158\n",
      "R2 Score: 0.6687594935356245\n",
      "************************************\n",
      "Train-Test Split: 0.8-0.2, Random Seed: 55\n",
      "Mean Squared Error (MSE): 17.849909143793084\n",
      "Root Mean Squared Error (RMSE): 4.224915282439766\n",
      "Mean Absolute Error (MAE): 2.9777066091291435\n",
      "R2 Score: 0.7516965713967568\n",
      "************************************\n",
      "Train-Test Split: 0.8-0.2, Random Seed: 77\n",
      "Mean Squared Error (MSE): 18.929248330112923\n",
      "Root Mean Squared Error (RMSE): 4.350775600983453\n",
      "Mean Absolute Error (MAE): 3.3699009048812347\n",
      "R2 Score: 0.7269774874059812\n",
      "************************************\n",
      "Train-Test Split: 0.8-0.2, Random Seed: 99\n",
      "Mean Squared Error (MSE): 30.966566999848876\n",
      "Root Mean Squared Error (RMSE): 5.564761180845848\n",
      "Mean Absolute Error (MAE): 3.628432795511118\n",
      "R2 Score: 0.6674690355194657\n",
      "************************************\n",
      "Train-Test Split: 0.9-0.1, Random Seed: 42\n",
      "Mean Squared Error (MSE): 14.995852876583005\n",
      "Root Mean Squared Error (RMSE): 3.8724479178657787\n",
      "Mean Absolute Error (MAE): 2.8342104578589944\n",
      "R2 Score: 0.7598135533532416\n",
      "************************************\n",
      "Train-Test Split: 0.9-0.1, Random Seed: 55\n",
      "Mean Squared Error (MSE): 12.444387572647496\n",
      "Root Mean Squared Error (RMSE): 3.527660353924042\n",
      "Mean Absolute Error (MAE): 2.386897541306952\n",
      "R2 Score: 0.8298115137261568\n",
      "************************************\n",
      "Train-Test Split: 0.9-0.1, Random Seed: 77\n",
      "Mean Squared Error (MSE): 14.939272553205603\n",
      "Root Mean Squared Error (RMSE): 3.865135515503383\n",
      "Mean Absolute Error (MAE): 2.902393739304839\n",
      "R2 Score: 0.6834909679665611\n",
      "************************************\n",
      "Train-Test Split: 0.9-0.1, Random Seed: 99\n",
      "Mean Squared Error (MSE): 16.384744670502375\n",
      "Root Mean Squared Error (RMSE): 4.047807390489618\n",
      "Mean Absolute Error (MAE): 2.938687194950874\n",
      "R2 Score: 0.767173907004569\n",
      "************************************\n",
      "Train-Test Split: 0.95-0.05, Random Seed: 42\n",
      "Mean Squared Error (MSE): 16.468418202800805\n",
      "Root Mean Squared Error (RMSE): 4.058129889838521\n",
      "Mean Absolute Error (MAE): 3.008262801047299\n",
      "R2 Score: 0.7656104939157804\n",
      "************************************\n",
      "Train-Test Split: 0.95-0.05, Random Seed: 55\n",
      "Mean Squared Error (MSE): 3.9343639837488924\n",
      "Root Mean Squared Error (RMSE): 1.9835231240771791\n",
      "Mean Absolute Error (MAE): 1.603842240886884\n",
      "R2 Score: 0.8924359387942393\n",
      "************************************\n",
      "Train-Test Split: 0.95-0.05, Random Seed: 77\n",
      "Mean Squared Error (MSE): 13.94289657060015\n",
      "Root Mean Squared Error (RMSE): 3.734018823010959\n",
      "Mean Absolute Error (MAE): 2.8291131485416283\n",
      "R2 Score: 0.7021076273115882\n",
      "************************************\n",
      "Train-Test Split: 0.95-0.05, Random Seed: 99\n",
      "Mean Squared Error (MSE): 15.028567758650077\n",
      "Root Mean Squared Error (RMSE): 3.8766696736567687\n",
      "Mean Absolute Error (MAE): 2.5287890732298712\n",
      "R2 Score: 0.7230068281029849\n",
      "************************************\n"
     ]
    }
   ],
   "source": [
    "splits = [(0.6, 0.4), (0.5, 0.5), (0.7, 0.3), (0.8, 0.2), (0.9, 0.1), (0.95, 0.05)]\n",
    "random_seeds = [42, 55, 77, 99]\n",
    "\n",
    "for train_size, test_size in splits:\n",
    "    for seed in random_seeds:\n",
    "        X_train, X_test, Y_train, Y_test = train_test_split(X, Y, test_size=test_size, random_state=seed)\n",
    "        model = LinearRegression()\n",
    "        model.fit(X_train, Y_train)\n",
    "        Y_pred = model.predict(X_test)\n",
    "        mse = mean_squared_error(Y_test, Y_pred)\n",
    "        rmse = mean_squared_error(Y_test, Y_pred, squared=False)\n",
    "        mae = mean_absolute_error(Y_test, Y_pred)\n",
    "        r2 = r2_score(Y_test, Y_pred)\n",
    "\n",
    "        print(f\"Train-Test Split: {train_size}-{test_size}, Random Seed: {seed}\")\n",
    "        print(\"Mean Squared Error (MSE):\", mse)\n",
    "        print(\"Root Mean Squared Error (RMSE):\", rmse)\n",
    "        print(\"Mean Absolute Error (MAE):\", mae)\n",
    "        print(\"R2 Score:\", r2)\n",
    "        print(\"************************************\")"
   ],
   "metadata": {
    "collapsed": false,
    "ExecuteTime": {
     "end_time": "2024-01-30T08:25:02.838284Z",
     "start_time": "2024-01-30T08:25:02.792959Z"
    }
   },
   "id": "bdaa5abe9fbdeb59",
   "execution_count": 17
  },
  {
   "cell_type": "markdown",
   "source": [
    "# Housing Pricing "
   ],
   "metadata": {
    "collapsed": false
   },
   "id": "595ae92b9bc315a0"
  },
  {
   "cell_type": "code",
   "outputs": [],
   "source": [
    "import matplotlib.pyplot as plt\n",
    "import seaborn as sns"
   ],
   "metadata": {
    "collapsed": false,
    "ExecuteTime": {
     "end_time": "2024-01-30T08:31:53.854132Z",
     "start_time": "2024-01-30T08:31:53.707933Z"
    }
   },
   "id": "81aa6661d3ed25c9",
   "execution_count": 22
  },
  {
   "cell_type": "code",
   "outputs": [
    {
     "data": {
      "text/plain": "             Home          Price         SqFt    Bedrooms   Bathrooms  \\\ncount  128.000000     128.000000   128.000000  128.000000  128.000000   \nmean    64.500000  130427.343750  2000.937500    3.023438    2.445312   \nstd     37.094474   26868.770371   211.572431    0.725951    0.514492   \nmin      1.000000   69100.000000  1450.000000    2.000000    2.000000   \n25%     32.750000  111325.000000  1880.000000    3.000000    2.000000   \n50%     64.500000  125950.000000  2000.000000    3.000000    2.000000   \n75%     96.250000  148250.000000  2140.000000    3.000000    3.000000   \nmax    128.000000  211200.000000  2590.000000    5.000000    4.000000   \n\n           Offers  \ncount  128.000000  \nmean     2.578125  \nstd      1.069324  \nmin      1.000000  \n25%      2.000000  \n50%      3.000000  \n75%      3.000000  \nmax      6.000000  ",
      "text/html": "<div>\n<style scoped>\n    .dataframe tbody tr th:only-of-type {\n        vertical-align: middle;\n    }\n\n    .dataframe tbody tr th {\n        vertical-align: top;\n    }\n\n    .dataframe thead th {\n        text-align: right;\n    }\n</style>\n<table border=\"1\" class=\"dataframe\">\n  <thead>\n    <tr style=\"text-align: right;\">\n      <th></th>\n      <th>Home</th>\n      <th>Price</th>\n      <th>SqFt</th>\n      <th>Bedrooms</th>\n      <th>Bathrooms</th>\n      <th>Offers</th>\n    </tr>\n  </thead>\n  <tbody>\n    <tr>\n      <th>count</th>\n      <td>128.000000</td>\n      <td>128.000000</td>\n      <td>128.000000</td>\n      <td>128.000000</td>\n      <td>128.000000</td>\n      <td>128.000000</td>\n    </tr>\n    <tr>\n      <th>mean</th>\n      <td>64.500000</td>\n      <td>130427.343750</td>\n      <td>2000.937500</td>\n      <td>3.023438</td>\n      <td>2.445312</td>\n      <td>2.578125</td>\n    </tr>\n    <tr>\n      <th>std</th>\n      <td>37.094474</td>\n      <td>26868.770371</td>\n      <td>211.572431</td>\n      <td>0.725951</td>\n      <td>0.514492</td>\n      <td>1.069324</td>\n    </tr>\n    <tr>\n      <th>min</th>\n      <td>1.000000</td>\n      <td>69100.000000</td>\n      <td>1450.000000</td>\n      <td>2.000000</td>\n      <td>2.000000</td>\n      <td>1.000000</td>\n    </tr>\n    <tr>\n      <th>25%</th>\n      <td>32.750000</td>\n      <td>111325.000000</td>\n      <td>1880.000000</td>\n      <td>3.000000</td>\n      <td>2.000000</td>\n      <td>2.000000</td>\n    </tr>\n    <tr>\n      <th>50%</th>\n      <td>64.500000</td>\n      <td>125950.000000</td>\n      <td>2000.000000</td>\n      <td>3.000000</td>\n      <td>2.000000</td>\n      <td>3.000000</td>\n    </tr>\n    <tr>\n      <th>75%</th>\n      <td>96.250000</td>\n      <td>148250.000000</td>\n      <td>2140.000000</td>\n      <td>3.000000</td>\n      <td>3.000000</td>\n      <td>3.000000</td>\n    </tr>\n    <tr>\n      <th>max</th>\n      <td>128.000000</td>\n      <td>211200.000000</td>\n      <td>2590.000000</td>\n      <td>5.000000</td>\n      <td>4.000000</td>\n      <td>6.000000</td>\n    </tr>\n  </tbody>\n</table>\n</div>"
     },
     "execution_count": 18,
     "metadata": {},
     "output_type": "execute_result"
    }
   ],
   "source": [
    "dfH = pd.read_csv(\"House Prices AI Lab.csv\")\n",
    "dfH.describe()"
   ],
   "metadata": {
    "collapsed": false,
    "ExecuteTime": {
     "end_time": "2024-01-30T08:31:05.893316Z",
     "start_time": "2024-01-30T08:31:05.864544Z"
    }
   },
   "id": "ee666a7bac358f02",
   "execution_count": 18
  },
  {
   "cell_type": "code",
   "outputs": [
    {
     "data": {
      "text/plain": "<Figure size 1200x1000 with 2 Axes>",
      "image/png": "[encoded data removed]"
     },
     "metadata": {},
     "output_type": "display_data"
    }
   ],
   "source": [
    "correlation = dfH.corr()\n",
    "plt.figure(figsize=(12, 10))\n",
    "sns.heatmap(correlation, annot=True)\n",
    "plt.title('Correlation Heatmap')\n",
    "plt.show()"
   ],
   "metadata": {
    "collapsed": false,
    "ExecuteTime": {
     "end_time": "2024-01-30T08:33:44.425243Z",
     "start_time": "2024-01-30T08:33:44.305978Z"
    }
   },
   "id": "9c54ee5baa7d616c",
   "execution_count": 28
  },
  {
   "cell_type": "code",
   "outputs": [],
   "source": [
    "from sklearn.preprocessing import LabelEncoder"
   ],
   "metadata": {
    "collapsed": false,
    "ExecuteTime": {
     "end_time": "2024-01-30T08:42:21.356133Z",
     "start_time": "2024-01-30T08:42:21.351197Z"
    }
   },
   "id": "20ec7bd0265e707",
   "execution_count": 38
  },
  {
   "cell_type": "code",
   "outputs": [
    {
     "name": "stdout",
     "output_type": "stream",
     "text": [
      "Slope coefficient for SqFt: 58.82937111643141\n",
      "Slope coefficient for Bedrooms: 6381.810937870845\n",
      "Slope coefficient for Bathrooms: 8689.53761144661\n",
      "Slope coefficient for Offers: -10433.767078602137\n",
      "Slope coefficient for BRICS_label_encoded: 18533.259299108915\n",
      "Slope coefficient for Neighborhood_label_encoded: 9519.917029650098\n"
     ]
    }
   ],
   "source": [
    "\n",
    "label_encoder = LabelEncoder()\n",
    "dfH['BRICS_label_encoded'] = label_encoder.fit_transform(dfH['Brick'])\n",
    "dfH['Neighborhood_label_encoded'] = label_encoder.fit_transform(dfH['Neighborhood'])\n",
    "X = dfH[['SqFt', 'Bedrooms', 'Bathrooms','Offers', 'BRICS_label_encoded', 'Neighborhood_label_encoded']]\n",
    "y = dfH['Price']\n",
    "\n",
    "\n",
    "model = LinearRegression()\n",
    "model.fit(X, y)\n",
    "\n",
    "slope_coefficients = model.coef_\n",
    "\n",
    "for i, feature in enumerate(X.columns):\n",
    "    print(f\"Slope coefficient for {feature}: {slope_coefficients[i]}\")\n"
   ],
   "metadata": {
    "collapsed": false,
    "ExecuteTime": {
     "end_time": "2024-01-30T08:43:44.378967Z",
     "start_time": "2024-01-30T08:43:44.375502Z"
    }
   },
   "id": "b7cca276ddaaa6e5",
   "execution_count": 45
  },
  {
   "cell_type": "code",
   "outputs": [
    {
     "name": "stdout",
     "output_type": "stream",
     "text": [
      "Residuals:\n",
      "0      15805.796103\n",
      "1       -743.107762\n",
      "2       2431.686643\n",
      "3     -10919.828268\n",
      "4      -3333.771547\n",
      "           ...     \n",
      "123    -8436.275489\n",
      "124    -1913.722917\n",
      "125   -10986.344839\n",
      "126    -6669.908941\n",
      "127    -4679.446032\n",
      "Name: Price, Length: 128, dtype: float64\n"
     ]
    }
   ],
   "source": [
    "y_pred = model.predict(X)\n",
    "residuals = y - y_pred\n",
    "print(\"Residuals:\")\n",
    "print(residuals)"
   ],
   "metadata": {
    "collapsed": false,
    "ExecuteTime": {
     "end_time": "2024-01-30T08:46:04.777530Z",
     "start_time": "2024-01-30T08:46:04.769748Z"
    }
   },
   "id": "78dd016f0c1f056f",
   "execution_count": 49
  }
 ],
 "metadata": {
  "kernelspec": {
   "display_name": "Python 3",
   "language": "python",
   "name": "python3"
  },
  "language_info": {
   "codemirror_mode": {
    "name": "ipython",
    "version": 2
   },
   "file_extension": ".py",
   "mimetype": "text/x-python",
   "name": "python",
   "nbconvert_exporter": "python",
   "pygments_lexer": "ipython2",
   "version": "2.7.6"
  }
 },
 "nbformat": 4,
 "nbformat_minor": 5
}
